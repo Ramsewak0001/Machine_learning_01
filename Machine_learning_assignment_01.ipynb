{
 "cells": [
  {
   "cell_type": "code",
   "execution_count": null,
   "id": "6966918d-f844-4a02-bb7d-554e627888fd",
   "metadata": {},
   "outputs": [],
   "source": [
    "Q1: Explain the followin with an Exampl :\n",
    "1) Artificial Intelligence\n",
    "2) Machine Learning\n",
    "3) Deep Learning"
   ]
  },
  {
   "cell_type": "code",
   "execution_count": null,
   "id": "e7270869-3357-4152-9802-e71695226b73",
   "metadata": {},
   "outputs": [],
   "source": [
    "1) Artificial Intelligence :\n",
    "                            It is the process of making a agent that think like a human think,and able to solve the tasks that \n",
    "                            requres human intelignece.\n",
    "2) Machine Learning :\n",
    "                     Machine learning is a subset of AI, which enables the machine to automatically learn from data, improve \n",
    "                     performance from past experiences, and make predictions. \n",
    "3) Deep Learning :\n",
    "                  Deep learning is a collection of statistical techniques of machine learning for learning feature hierarchies \n",
    "                  that are actually based on artificial neural networks."
   ]
  },
  {
   "cell_type": "code",
   "execution_count": null,
   "id": "3b74e86a-2b36-4755-aaed-71f24fc9ae43",
   "metadata": {},
   "outputs": [],
   "source": [
    "----------------------------------------------------------------------------------------------------------------------------------"
   ]
  },
  {
   "cell_type": "code",
   "execution_count": null,
   "id": "f7dd8c32-44ea-472a-bc30-86787a8f81fd",
   "metadata": {},
   "outputs": [],
   "source": [
    "Q2: What is supervised learning? List some examples of supervised learning."
   ]
  },
  {
   "cell_type": "code",
   "execution_count": null,
   "id": "cf120edd-5006-4273-a73e-ff62dea62fb6",
   "metadata": {},
   "outputs": [],
   "source": [
    "Supervised Learning : \n",
    "                    It is based on superivision.It means the superivised learning technique, we train the machine using the lablled\n",
    "                    dataset, and based on the training, the machine predicts the output.\n",
    "Example :\n",
    "    \n",
    "Email filtering:\n",
    "               Classifying incoming emails as spam or legitimate based on the content and sender of the email.\n",
    "Credit scoring:\n",
    "               Predicting the creditworthiness of loan applicants based on their financial and personal information.\n",
    "Voice recognition:\n",
    "                Recognizing and understanding spoken commands from users based on the sound and context of the speech.\n",
    "Image and object recognition: \n",
    "           Locating, categorizing and isolating objects from images or videos based on the shape, color and texture of the objects."
   ]
  },
  {
   "cell_type": "code",
   "execution_count": null,
   "id": "93cd259f-2882-4741-b748-3cf6c0290322",
   "metadata": {},
   "outputs": [],
   "source": [
    "----------------------------------------------------------------------------------------------------------------------------------"
   ]
  },
  {
   "cell_type": "code",
   "execution_count": null,
   "id": "d92c939d-87e0-4c01-ac0b-d7f9720c1f52",
   "metadata": {},
   "outputs": [],
   "source": [
    "Q3: What is unsupervised learning? List some examples of unsupervised learning."
   ]
  },
  {
   "cell_type": "code",
   "execution_count": null,
   "id": "ea621874-316c-4c53-8fec-9d61758e0293",
   "metadata": {},
   "outputs": [],
   "source": [
    "Unsupervised Learning :\n",
    "                      The models are trained with the data that is nither labelled and the model acts on the data without\n",
    "                      any superivision.\n",
    "Example :\n",
    "        Data exploration, visualization, and dimension reduction."
   ]
  },
  {
   "cell_type": "code",
   "execution_count": null,
   "id": "cb99e521-bb88-4be5-805e-7f8291eae693",
   "metadata": {},
   "outputs": [],
   "source": [
    "----------------------------------------------------------------------------------------------------------------------------------"
   ]
  },
  {
   "cell_type": "code",
   "execution_count": null,
   "id": "9c9ad7cf-49f2-4e00-94f5-6e3aca906377",
   "metadata": {},
   "outputs": [],
   "source": [
    "Q4: What is the difference between AI, ML, DL, and DS?"
   ]
  },
  {
   "cell_type": "code",
   "execution_count": null,
   "id": "6e22ae2b-2573-4e83-8a8a-f9605314e380",
   "metadata": {},
   "outputs": [],
   "source": [
    "AI is the broader concept of creating intelligent systems, ML is a subset of AI focused on machine learning algorithms, \n",
    "DL is a further subset of ML using neural networks, and DS is a multidisciplinary field focusing on data analysis and \n",
    "extracting knowledge from data."
   ]
  },
  {
   "cell_type": "code",
   "execution_count": null,
   "id": "4443a3ef-79da-4dbd-8b79-868e1eeef711",
   "metadata": {},
   "outputs": [],
   "source": [
    "----------------------------------------------------------------------------------------------------------------------------------"
   ]
  },
  {
   "cell_type": "code",
   "execution_count": null,
   "id": "7ea562bc-d540-422c-9df4-214dec73b951",
   "metadata": {},
   "outputs": [],
   "source": [
    "Q5: What are the main differences between supervised, unsupervised, and semi-supervised learning?"
   ]
  },
  {
   "cell_type": "code",
   "execution_count": null,
   "id": "10fc4c64-c27a-40c6-8bb6-936e35ff4fba",
   "metadata": {},
   "outputs": [],
   "source": [
    "Supervised Learning :\n",
    "                     It use labelled dataset, and superivision.\n",
    "Unsupervised Learning :\n",
    "                    It use unlabelled dataset without any superivision.\n",
    "Semi-Superivised Learning :\n",
    "                    It use labelled and unlabelled dataset."
   ]
  },
  {
   "cell_type": "code",
   "execution_count": null,
   "id": "8838deeb-7299-4a06-98f0-03bce00a60f1",
   "metadata": {},
   "outputs": [],
   "source": [
    "----------------------------------------------------------------------------------------------------------------------------------"
   ]
  },
  {
   "cell_type": "code",
   "execution_count": null,
   "id": "f50dffd8-05e3-491a-9032-e20fa36d61de",
   "metadata": {},
   "outputs": [],
   "source": [
    "Q6: What is train, test and validation split? Explain the importance of each term."
   ]
  },
  {
   "cell_type": "code",
   "execution_count": null,
   "id": "f44d798a-6aa3-4910-ab06-6b7a780e1291",
   "metadata": {},
   "outputs": [],
   "source": [
    "Training Set:\n",
    "             The training set is the largest portion of the dataset and is used to train the machine learning or deep learning \n",
    "             model. \n",
    "Test Set:\n",
    "         The test set is a separate portion of the dataset that the model has never seen during training. Once the model is trained\n",
    "          on the training set, it is evaluated on the test set to measure its performance on unseen data.\n",
    "Validation Set:\n",
    "              the validation set is used to make decisions about the model's configuration, such as choosing the number of hidden\n",
    "              layers, adjusting learning rates, or determining the model architecture.\n",
    "            "
   ]
  },
  {
   "cell_type": "code",
   "execution_count": null,
   "id": "fa404265-9b37-45e9-b976-610bab9f0ee9",
   "metadata": {},
   "outputs": [],
   "source": [
    "----------------------------------------------------------------------------------------------------------------------------------"
   ]
  },
  {
   "cell_type": "code",
   "execution_count": null,
   "id": "52665d92-ed0e-4292-a9f7-97aa5ebf079b",
   "metadata": {},
   "outputs": [],
   "source": [
    "Q7: How can unsupervised learning be used in anomaly detection?"
   ]
  },
  {
   "cell_type": "code",
   "execution_count": null,
   "id": "1dfa0153-0b9c-4a98-b2ee-12646c911ff4",
   "metadata": {},
   "outputs": [],
   "source": [
    "Unsupervised learning can be used in anomaly detection by modelling the normal data distribution and defining a measurement to \n",
    "classify samples as anomalous or normal. It does not require any prior knowledge about the anomalies, but assumes that they are \n",
    "rare and make up a small percentage of the data. It is often applied in practical applications such as network intrusion detection,\n",
    "fraud detection, and life science and medical domain."
   ]
  },
  {
   "cell_type": "code",
   "execution_count": null,
   "id": "5447ead3-16dd-4a96-9e60-a908d368425f",
   "metadata": {},
   "outputs": [],
   "source": [
    "----------------------------------------------------------------------------------------------------------------------------------"
   ]
  },
  {
   "cell_type": "code",
   "execution_count": null,
   "id": "9dedcb48-14c9-44db-89b8-07cae69ea96f",
   "metadata": {},
   "outputs": [],
   "source": [
    "Q8: List down some commonly used supervised learning algorithms and unsupervised learning algorithms."
   ]
  },
  {
   "cell_type": "code",
   "execution_count": null,
   "id": "c3c2f23f-c196-4fae-8a3c-d7c5a6f78474",
   "metadata": {},
   "outputs": [],
   "source": [
    "Supervised Learning Algorithms:\n",
    "\n",
    "Linear Regression: \n",
    "                 A simple regression algorithm used for predicting numerical values based on input features.\n",
    "Logistic Regression:\n",
    "                    A classification algorithm used to predict binary outcomes.\n",
    "Decision Trees: \n",
    "                Non-linear models that recursively split the data based on features to make decisions or classifications.\n",
    "Random Forest:\n",
    "              An ensemble learning method that combines multiple decision trees to improve accuracy and reduce overfitting.\n",
    "        \n",
    "Unsupervised Learning Algorithms:\n",
    "    \n",
    "K-means Clustering: \n",
    "                 A popular clustering algorithm that partitions data into k clusters based on similarity.\n",
    "DBSCAN (Density-Based Spatial Clustering of Applications with Noise): \n",
    "                 A density-based clustering algorithm that groups data points in dense regions.\n",
    "Hierarchical Clustering:\n",
    "                A method that creates a tree-like structure of nested clusters, enabling the exploration of data at different\n",
    "                granularity levels."
   ]
  }
 ],
 "metadata": {
  "kernelspec": {
   "display_name": "Python 3 (ipykernel)",
   "language": "python",
   "name": "python3"
  },
  "language_info": {
   "codemirror_mode": {
    "name": "ipython",
    "version": 3
   },
   "file_extension": ".py",
   "mimetype": "text/x-python",
   "name": "python",
   "nbconvert_exporter": "python",
   "pygments_lexer": "ipython3",
   "version": "3.10.8"
  }
 },
 "nbformat": 4,
 "nbformat_minor": 5
}
